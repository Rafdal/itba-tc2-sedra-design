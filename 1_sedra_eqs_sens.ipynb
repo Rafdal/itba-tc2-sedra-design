{
 "cells": [
  {
   "cell_type": "markdown",
   "metadata": {},
   "source": [
    "# Celda de Sedra-Ghorab-Martin\n",
    "Resolución del circuito HPB, verificación de ecuaciones y obtención de tablas de sensibilidades"
   ]
  },
  {
   "cell_type": "code",
   "execution_count": 76,
   "metadata": {},
   "outputs": [],
   "source": [
    "import sympy as sp\n",
    "\n",
    "# Define component parameters\n",
    "# Ga1, Ga2, Gb, G1, G42, G41 = sp.symbols('Ga1 Ga2 Gb G1 G42 G41', real=True, positive=True)\n",
    "Ra1, Ra2, Rb, R1, R42, R41 = sp.symbols('Ra1 Ra2 Rb R1 R42 R41', real=True, positive=True)\n",
    "\n",
    "Ga1 = 1/Ra1\n",
    "Ga2 = 1/Ra2\n",
    "Gb = 1/Rb\n",
    "G1 = 1/R1\n",
    "G42 = 1/R42\n",
    "G41 = 1/R41\n",
    "\n",
    "C21, C22, C3 = sp.symbols('C21 C22 C3', real=True, positive=True)\n",
    "Vi, Vo = sp.symbols('Vi Vo')\n",
    "Vn, Vp, Vx = sp.symbols('V^- V^+ V_X')\n",
    "\n",
    "s = sp.symbols('s')"
   ]
  },
  {
   "cell_type": "code",
   "execution_count": 77,
   "metadata": {},
   "outputs": [],
   "source": [
    "# capacitor impedances\n",
    "X21 = 1/(s*C21)\n",
    "X22 = 1/(s*C22)\n",
    "X3 = 1/(s*C3)"
   ]
  },
  {
   "cell_type": "code",
   "execution_count": 78,
   "metadata": {},
   "outputs": [
    {
     "data": {
      "text/latex": [
       "$\\displaystyle Vo = A_{{v}}(s) \\left(V^{+} - V^{-}\\right)$"
      ],
      "text/plain": [
       "Eq(Vo, A_{{v}}(s)*(V^+ - V^-))"
      ]
     },
     "metadata": {},
     "output_type": "display_data"
    }
   ],
   "source": [
    "# Op amp parameters and equations\n",
    "Av = sp.symbols('A_{{v}}(s)')\n",
    "eqOA = sp.Eq(Vo, (Vp - Vn)*Av)\n",
    "display(eqOA)"
   ]
  },
  {
   "cell_type": "code",
   "execution_count": 79,
   "metadata": {},
   "outputs": [],
   "source": [
    "# Define equations\n",
    "eq1 = sp.Eq(Vn*Ga1, (Vo-Vn)*Gb + (Vi-Vn)*Ga2)\n",
    "eq2 = sp.Eq((Vi-Vp)*G42, Vp*G41 + (Vp-Vx)/X3)\n",
    "eq3 = sp.Eq((Vi-Vx)/X22 + (Vp-Vx)/X3, Vx/X21 + (Vx-Vo)*G1)"
   ]
  },
  {
   "cell_type": "markdown",
   "metadata": {},
   "source": [
    "## Funciones de transferencia considerando OpAmp real e ideal"
   ]
  },
  {
   "cell_type": "code",
   "execution_count": 80,
   "metadata": {},
   "outputs": [
    {
     "name": "stdout",
     "output_type": "stream",
     "text": [
      "H_real(s) = \n"
     ]
    },
    {
     "data": {
      "text/latex": [
       "$\\displaystyle \\frac{A_{{v}}(s) \\left(- C_{21} C_{3} R_{1} R_{41} R_{42} Ra_{1} Rb s^{2} + C_{21} R_{1} R_{41} Ra_{1} Ra_{2} s + C_{21} R_{1} R_{41} Ra_{2} Rb s - C_{21} R_{1} R_{42} Ra_{1} Rb s + C_{22} C_{3} R_{1} R_{41} R_{42} Ra_{1} Ra_{2} s^{2} + C_{22} C_{3} R_{1} R_{41} R_{42} Ra_{2} Rb s^{2} + C_{22} R_{1} R_{41} Ra_{1} Ra_{2} s + C_{22} R_{1} R_{41} Ra_{2} Rb s - C_{22} R_{1} R_{42} Ra_{1} Rb s + C_{3} R_{1} R_{41} Ra_{1} Ra_{2} s + C_{3} R_{1} R_{41} Ra_{2} Rb s - C_{3} R_{1} R_{42} Ra_{1} Rb s - C_{3} R_{41} R_{42} Ra_{1} Rb s + R_{41} Ra_{1} Ra_{2} + R_{41} Ra_{2} Rb - R_{42} Ra_{1} Rb\\right)}{A_{{v}}(s) C_{21} C_{3} R_{1} R_{41} R_{42} Ra_{1} Ra_{2} s^{2} + A_{{v}}(s) C_{21} R_{1} R_{41} Ra_{1} Ra_{2} s + A_{{v}}(s) C_{21} R_{1} R_{42} Ra_{1} Ra_{2} s + A_{{v}}(s) C_{22} C_{3} R_{1} R_{41} R_{42} Ra_{1} Ra_{2} s^{2} + A_{{v}}(s) C_{22} R_{1} R_{41} Ra_{1} Ra_{2} s + A_{{v}}(s) C_{22} R_{1} R_{42} Ra_{1} Ra_{2} s + A_{{v}}(s) C_{3} R_{1} R_{41} Ra_{1} Ra_{2} s + A_{{v}}(s) C_{3} R_{1} R_{42} Ra_{1} Ra_{2} s - A_{{v}}(s) C_{3} R_{41} R_{42} Ra_{1} Rb s - A_{{v}}(s) C_{3} R_{41} R_{42} Ra_{2} Rb s + A_{{v}}(s) R_{41} Ra_{1} Ra_{2} + A_{{v}}(s) R_{42} Ra_{1} Ra_{2} + C_{21} C_{3} R_{1} R_{41} R_{42} Ra_{1} Ra_{2} s^{2} + C_{21} C_{3} R_{1} R_{41} R_{42} Ra_{1} Rb s^{2} + C_{21} C_{3} R_{1} R_{41} R_{42} Ra_{2} Rb s^{2} + C_{21} R_{1} R_{41} Ra_{1} Ra_{2} s + C_{21} R_{1} R_{41} Ra_{1} Rb s + C_{21} R_{1} R_{41} Ra_{2} Rb s + C_{21} R_{1} R_{42} Ra_{1} Ra_{2} s + C_{21} R_{1} R_{42} Ra_{1} Rb s + C_{21} R_{1} R_{42} Ra_{2} Rb s + C_{22} C_{3} R_{1} R_{41} R_{42} Ra_{1} Ra_{2} s^{2} + C_{22} C_{3} R_{1} R_{41} R_{42} Ra_{1} Rb s^{2} + C_{22} C_{3} R_{1} R_{41} R_{42} Ra_{2} Rb s^{2} + C_{22} R_{1} R_{41} Ra_{1} Ra_{2} s + C_{22} R_{1} R_{41} Ra_{1} Rb s + C_{22} R_{1} R_{41} Ra_{2} Rb s + C_{22} R_{1} R_{42} Ra_{1} Ra_{2} s + C_{22} R_{1} R_{42} Ra_{1} Rb s + C_{22} R_{1} R_{42} Ra_{2} Rb s + C_{3} R_{1} R_{41} Ra_{1} Ra_{2} s + C_{3} R_{1} R_{41} Ra_{1} Rb s + C_{3} R_{1} R_{41} Ra_{2} Rb s + C_{3} R_{1} R_{42} Ra_{1} Ra_{2} s + C_{3} R_{1} R_{42} Ra_{1} Rb s + C_{3} R_{1} R_{42} Ra_{2} Rb s + C_{3} R_{41} R_{42} Ra_{1} Ra_{2} s + C_{3} R_{41} R_{42} Ra_{1} Rb s + C_{3} R_{41} R_{42} Ra_{2} Rb s + R_{41} Ra_{1} Ra_{2} + R_{41} Ra_{1} Rb + R_{41} Ra_{2} Rb + R_{42} Ra_{1} Ra_{2} + R_{42} Ra_{1} Rb + R_{42} Ra_{2} Rb}$"
      ],
      "text/plain": [
       "A_{{v}}(s)*(-C21*C3*R1*R41*R42*Ra1*Rb*s**2 + C21*R1*R41*Ra1*Ra2*s + C21*R1*R41*Ra2*Rb*s - C21*R1*R42*Ra1*Rb*s + C22*C3*R1*R41*R42*Ra1*Ra2*s**2 + C22*C3*R1*R41*R42*Ra2*Rb*s**2 + C22*R1*R41*Ra1*Ra2*s + C22*R1*R41*Ra2*Rb*s - C22*R1*R42*Ra1*Rb*s + C3*R1*R41*Ra1*Ra2*s + C3*R1*R41*Ra2*Rb*s - C3*R1*R42*Ra1*Rb*s - C3*R41*R42*Ra1*Rb*s + R41*Ra1*Ra2 + R41*Ra2*Rb - R42*Ra1*Rb)/(A_{{v}}(s)*C21*C3*R1*R41*R42*Ra1*Ra2*s**2 + A_{{v}}(s)*C21*R1*R41*Ra1*Ra2*s + A_{{v}}(s)*C21*R1*R42*Ra1*Ra2*s + A_{{v}}(s)*C22*C3*R1*R41*R42*Ra1*Ra2*s**2 + A_{{v}}(s)*C22*R1*R41*Ra1*Ra2*s + A_{{v}}(s)*C22*R1*R42*Ra1*Ra2*s + A_{{v}}(s)*C3*R1*R41*Ra1*Ra2*s + A_{{v}}(s)*C3*R1*R42*Ra1*Ra2*s - A_{{v}}(s)*C3*R41*R42*Ra1*Rb*s - A_{{v}}(s)*C3*R41*R42*Ra2*Rb*s + A_{{v}}(s)*R41*Ra1*Ra2 + A_{{v}}(s)*R42*Ra1*Ra2 + C21*C3*R1*R41*R42*Ra1*Ra2*s**2 + C21*C3*R1*R41*R42*Ra1*Rb*s**2 + C21*C3*R1*R41*R42*Ra2*Rb*s**2 + C21*R1*R41*Ra1*Ra2*s + C21*R1*R41*Ra1*Rb*s + C21*R1*R41*Ra2*Rb*s + C21*R1*R42*Ra1*Ra2*s + C21*R1*R42*Ra1*Rb*s + C21*R1*R42*Ra2*Rb*s + C22*C3*R1*R41*R42*Ra1*Ra2*s**2 + C22*C3*R1*R41*R42*Ra1*Rb*s**2 + C22*C3*R1*R41*R42*Ra2*Rb*s**2 + C22*R1*R41*Ra1*Ra2*s + C22*R1*R41*Ra1*Rb*s + C22*R1*R41*Ra2*Rb*s + C22*R1*R42*Ra1*Ra2*s + C22*R1*R42*Ra1*Rb*s + C22*R1*R42*Ra2*Rb*s + C3*R1*R41*Ra1*Ra2*s + C3*R1*R41*Ra1*Rb*s + C3*R1*R41*Ra2*Rb*s + C3*R1*R42*Ra1*Ra2*s + C3*R1*R42*Ra1*Rb*s + C3*R1*R42*Ra2*Rb*s + C3*R41*R42*Ra1*Ra2*s + C3*R41*R42*Ra1*Rb*s + C3*R41*R42*Ra2*Rb*s + R41*Ra1*Ra2 + R41*Ra1*Rb + R41*Ra2*Rb + R42*Ra1*Ra2 + R42*Ra1*Rb + R42*Ra2*Rb)"
      ]
     },
     "metadata": {},
     "output_type": "display_data"
    },
    {
     "name": "stdout",
     "output_type": "stream",
     "text": [
      "H_ideal(s) = \n"
     ]
    },
    {
     "data": {
      "text/latex": [
       "$\\displaystyle \\frac{- C_{21} C_{3} R_{1} R_{41} R_{42} Ra_{1} Rb s^{2} + C_{21} R_{1} R_{41} Ra_{1} Ra_{2} s + C_{21} R_{1} R_{41} Ra_{2} Rb s - C_{21} R_{1} R_{42} Ra_{1} Rb s + C_{22} C_{3} R_{1} R_{41} R_{42} Ra_{1} Ra_{2} s^{2} + C_{22} C_{3} R_{1} R_{41} R_{42} Ra_{2} Rb s^{2} + C_{22} R_{1} R_{41} Ra_{1} Ra_{2} s + C_{22} R_{1} R_{41} Ra_{2} Rb s - C_{22} R_{1} R_{42} Ra_{1} Rb s + C_{3} R_{1} R_{41} Ra_{1} Ra_{2} s + C_{3} R_{1} R_{41} Ra_{2} Rb s - C_{3} R_{1} R_{42} Ra_{1} Rb s - C_{3} R_{41} R_{42} Ra_{1} Rb s + R_{41} Ra_{1} Ra_{2} + R_{41} Ra_{2} Rb - R_{42} Ra_{1} Rb}{C_{21} C_{3} R_{1} R_{41} R_{42} Ra_{1} Ra_{2} s^{2} + C_{21} R_{1} R_{41} Ra_{1} Ra_{2} s + C_{21} R_{1} R_{42} Ra_{1} Ra_{2} s + C_{22} C_{3} R_{1} R_{41} R_{42} Ra_{1} Ra_{2} s^{2} + C_{22} R_{1} R_{41} Ra_{1} Ra_{2} s + C_{22} R_{1} R_{42} Ra_{1} Ra_{2} s + C_{3} R_{1} R_{41} Ra_{1} Ra_{2} s + C_{3} R_{1} R_{42} Ra_{1} Ra_{2} s - C_{3} R_{41} R_{42} Ra_{1} Rb s - C_{3} R_{41} R_{42} Ra_{2} Rb s + R_{41} Ra_{1} Ra_{2} + R_{42} Ra_{1} Ra_{2}}$"
      ],
      "text/plain": [
       "(-C21*C3*R1*R41*R42*Ra1*Rb*s**2 + C21*R1*R41*Ra1*Ra2*s + C21*R1*R41*Ra2*Rb*s - C21*R1*R42*Ra1*Rb*s + C22*C3*R1*R41*R42*Ra1*Ra2*s**2 + C22*C3*R1*R41*R42*Ra2*Rb*s**2 + C22*R1*R41*Ra1*Ra2*s + C22*R1*R41*Ra2*Rb*s - C22*R1*R42*Ra1*Rb*s + C3*R1*R41*Ra1*Ra2*s + C3*R1*R41*Ra2*Rb*s - C3*R1*R42*Ra1*Rb*s - C3*R41*R42*Ra1*Rb*s + R41*Ra1*Ra2 + R41*Ra2*Rb - R42*Ra1*Rb)/(C21*C3*R1*R41*R42*Ra1*Ra2*s**2 + C21*R1*R41*Ra1*Ra2*s + C21*R1*R42*Ra1*Ra2*s + C22*C3*R1*R41*R42*Ra1*Ra2*s**2 + C22*R1*R41*Ra1*Ra2*s + C22*R1*R42*Ra1*Ra2*s + C3*R1*R41*Ra1*Ra2*s + C3*R1*R42*Ra1*Ra2*s - C3*R41*R42*Ra1*Rb*s - C3*R41*R42*Ra2*Rb*s + R41*Ra1*Ra2 + R42*Ra1*Ra2)"
      ]
     },
     "metadata": {},
     "output_type": "display_data"
    }
   ],
   "source": [
    "# Solve for Vo\n",
    "sol = sp.solve([eq1, eq2, eq3, eqOA], [Vo, Vn, Vp, Vx])\n",
    "\n",
    "Vo_exp = sol[Vo].simplify()\n",
    "H_s_real = sp.simplify(Vo_exp * (1/Vi))\n",
    "print(\"H_real(s) = \")\n",
    "display(H_s_real)\n",
    "H_s_ideal = sp.limit(H_s_real, Av, sp.oo).simplify()\n",
    "print(\"H_ideal(s) = \")\n",
    "display(H_s_ideal)"
   ]
  },
  {
   "cell_type": "code",
   "execution_count": 81,
   "metadata": {},
   "outputs": [
    {
     "name": "stdout",
     "output_type": "stream",
     "text": [
      "num_ideal = \n",
      "Poly((-C21*Ra1*Rb + C22*Ra1*Ra2 + C22*Ra2*Rb)/(C21*Ra1*Ra2 + C22*Ra1*Ra2)*s**2 + (C21*R1*R41*Ra1*Ra2 + C21*R1*R41*Ra2*Rb - C21*R1*R42*Ra1*Rb + C22*R1*R41*Ra1*Ra2 + C22*R1*R41*Ra2*Rb - C22*R1*R42*Ra1*Rb + C3*R1*R41*Ra1*Ra2 + C3*R1*R41*Ra2*Rb - C3*R1*R42*Ra1*Rb - C3*R41*R42*Ra1*Rb)/(C21*C3*R1*R41*R42*Ra1*Ra2 + C22*C3*R1*R41*R42*Ra1*Ra2)*s + (R41*Ra1*Ra2 + R41*Ra2*Rb - R42*Ra1*Rb)/(C21*C3*R1*R41*R42*Ra1*Ra2 + C22*C3*R1*R41*R42*Ra1*Ra2), s, domain='ZZ(C3,C21,C22,R1,R41,R42,Ra1,Ra2,Rb)')\n",
      "den_ideal = \n",
      "Poly(s**2 + (C21*R1*R41*Ra1*Ra2 + C21*R1*R42*Ra1*Ra2 + C22*R1*R41*Ra1*Ra2 + C22*R1*R42*Ra1*Ra2 + C3*R1*R41*Ra1*Ra2 + C3*R1*R42*Ra1*Ra2 - C3*R41*R42*Ra1*Rb - C3*R41*R42*Ra2*Rb)/(C21*C3*R1*R41*R42*Ra1*Ra2 + C22*C3*R1*R41*R42*Ra1*Ra2)*s + (R41 + R42)/(C21*C3*R1*R41*R42 + C22*C3*R1*R41*R42), s, domain='ZZ(C3,C21,C22,R1,R41,R42,Ra1,Ra2,Rb)')\n"
     ]
    }
   ],
   "source": [
    "num_ideal, den_ideal = sp.fraction(H_s_ideal)\n",
    "\n",
    "# Convert to polynomial coefficients\n",
    "num_ideal = sp.Poly(num_ideal, s)\n",
    "den_ideal = sp.Poly(den_ideal, s)\n",
    "\n",
    "# Display coefficients\n",
    "# print(\"num_ideal = \")\n",
    "# display(num_ideal)\n",
    "# print(\"den_ideal = \")\n",
    "# display(den_ideal)\n",
    "\n",
    "# normalize denominator\n",
    "d0 = den_ideal.coeffs()[0]\n",
    "num_ideal = sp.Poly(sp.simplify(num_ideal / d0), s)\n",
    "den_ideal = sp.Poly(sp.simplify(den_ideal / d0), s)\n",
    "\n",
    "print(\"num_ideal = \")\n",
    "print(num_ideal)\n",
    "print(\"den_ideal = \")\n",
    "print(den_ideal)"
   ]
  },
  {
   "cell_type": "markdown",
   "metadata": {},
   "source": [
    "# Verifiacion de ecuaciones del Paper"
   ]
  },
  {
   "cell_type": "code",
   "execution_count": 82,
   "metadata": {},
   "outputs": [
    {
     "name": "stdout",
     "output_type": "stream",
     "text": [
      "\\omega_{{0}}^2 = \\frac{R_{41} + R_{42}}{C_{3} R_{1} R_{41} R_{42} \\left(C_{21} + C_{22}\\right)}\n"
     ]
    },
    {
     "data": {
      "text/latex": [
       "$\\displaystyle \\frac{{\\omega_{{0}}}}{{Q}} = \\frac{C_{21} R_{1} R_{41} Ra_{1} Ra_{2} + C_{21} R_{1} R_{42} Ra_{1} Ra_{2} + C_{22} R_{1} R_{41} Ra_{1} Ra_{2} + C_{22} R_{1} R_{42} Ra_{1} Ra_{2} + C_{3} R_{1} R_{41} Ra_{1} Ra_{2} + C_{3} R_{1} R_{42} Ra_{1} Ra_{2} - C_{3} R_{41} R_{42} Ra_{1} Rb - C_{3} R_{41} R_{42} Ra_{2} Rb}{C_{3} R_{1} R_{41} R_{42} Ra_{1} Ra_{2} \\left(C_{21} + C_{22}\\right)}$"
      ],
      "text/plain": [
       "Eq(\\frac{{\\omega_{{0}}}}{{Q}}, (C21*R1*R41*Ra1*Ra2 + C21*R1*R42*Ra1*Ra2 + C22*R1*R41*Ra1*Ra2 + C22*R1*R42*Ra1*Ra2 + C3*R1*R41*Ra1*Ra2 + C3*R1*R42*Ra1*Ra2 - C3*R41*R42*Ra1*Rb - C3*R41*R42*Ra2*Rb)/(C3*R1*R41*R42*Ra1*Ra2*(C21 + C22)))"
      ]
     },
     "metadata": {},
     "output_type": "display_data"
    },
    {
     "name": "stdout",
     "output_type": "stream",
     "text": [
      "\\frac{{\\omega_{{0}}}}{{Q}} = \\left(\\frac{1}{R_{42}} + \\frac{1}{R_{41}}\\right) \\left(\\frac{1}{C_{21} + C_{22}} + \\frac{1}{C_{3}}\\right) - \\frac{Rb \\left(\\frac{1}{Ra_{2}} + \\frac{1}{Ra_{1}}\\right)}{R_{1} \\left(C_{21} + C_{22}\\right)}\n"
     ]
    },
    {
     "data": {
      "text/latex": [
       "$\\displaystyle \\text{True}$"
      ],
      "text/plain": [
       "True"
      ]
     },
     "metadata": {},
     "output_type": "display_data"
    }
   ],
   "source": [
    "w0_Q = den_ideal.coeffs()[1].simplify()\n",
    "w02 = den_ideal.coeffs()[2].simplify()\n",
    "print(sp.latex(sp.Eq(sp.symbols('\\\\omega_{{0}}^2'), w02)))\n",
    "display(sp.Eq(sp.symbols('\\\\frac{{\\\\omega_{{0}}}}{{Q}}'), w0_Q))\n",
    "\n",
    "w0_Q_paper = (G41 + G42)*(1/(C21 + C22) + 1/C3) - (G1/(C21 + C22))*(Ga1 + Ga2)/Gb\n",
    "print(sp.latex(sp.Eq(sp.symbols('\\\\frac{{\\\\omega_{{0}}}}{{Q}}'), w0_Q_paper)))\n",
    "\n",
    "display(sp.Eq(w0_Q_paper, w0_Q).simplify())"
   ]
  },
  {
   "cell_type": "code",
   "execution_count": 83,
   "metadata": {},
   "outputs": [
    {
     "data": {
      "text/latex": [
       "$\\displaystyle n_{2} = \\frac{- C_{21} Ra_{1} Rb + C_{22} Ra_{1} Ra_{2} + C_{22} Ra_{2} Rb}{Ra_{1} Ra_{2} \\left(C_{21} + C_{22}\\right)}$"
      ],
      "text/plain": [
       "Eq(n_2, (-C21*Ra1*Rb + C22*Ra1*Ra2 + C22*Ra2*Rb)/(Ra1*Ra2*(C21 + C22)))"
      ]
     },
     "metadata": {},
     "output_type": "display_data"
    },
    {
     "name": "stdout",
     "output_type": "stream",
     "text": [
      "n_{2} = \\frac{C_{22} Rb \\left(\\frac{1}{Rb} + \\frac{1}{Ra_{2}} + \\frac{1}{Ra_{1}}\\right)}{C_{21} + C_{22}} - \\frac{Rb}{Ra_{2}}\n"
     ]
    },
    {
     "data": {
      "text/latex": [
       "$\\displaystyle \\text{True}$"
      ],
      "text/plain": [
       "True"
      ]
     },
     "metadata": {},
     "output_type": "display_data"
    }
   ],
   "source": [
    "n2 = num_ideal.coeffs()[0].simplify()\n",
    "display(sp.Eq(sp.symbols('n_2'), n2))\n",
    "\n",
    "n2_paper = ((Ga1 + Ga2 + Gb)/Gb)*((C22)/(C21 + C22)) - Ga2/Gb\n",
    "print(sp.latex(sp.Eq(sp.symbols('n_2'), n2_paper)))\n",
    "display(sp.Eq(n2_paper.simplify(), n2.simplify()).simplify())"
   ]
  },
  {
   "cell_type": "code",
   "execution_count": 84,
   "metadata": {},
   "outputs": [
    {
     "data": {
      "text/latex": [
       "$\\displaystyle n_{1} = \\frac{C_{21} R_{1} R_{41} Ra_{1} Ra_{2} + C_{21} R_{1} R_{41} Ra_{2} Rb - C_{21} R_{1} R_{42} Ra_{1} Rb + C_{22} R_{1} R_{41} Ra_{1} Ra_{2} + C_{22} R_{1} R_{41} Ra_{2} Rb - C_{22} R_{1} R_{42} Ra_{1} Rb + C_{3} R_{1} R_{41} Ra_{1} Ra_{2} + C_{3} R_{1} R_{41} Ra_{2} Rb - C_{3} R_{1} R_{42} Ra_{1} Rb - C_{3} R_{41} R_{42} Ra_{1} Rb}{C_{3} R_{1} R_{41} R_{42} Ra_{1} Ra_{2} \\left(C_{21} + C_{22}\\right)}$"
      ],
      "text/plain": [
       "Eq(n_1, (C21*R1*R41*Ra1*Ra2 + C21*R1*R41*Ra2*Rb - C21*R1*R42*Ra1*Rb + C22*R1*R41*Ra1*Ra2 + C22*R1*R41*Ra2*Rb - C22*R1*R42*Ra1*Rb + C3*R1*R41*Ra1*Ra2 + C3*R1*R41*Ra2*Rb - C3*R1*R42*Ra1*Rb - C3*R41*R42*Ra1*Rb)/(C3*R1*R41*R42*Ra1*Ra2*(C21 + C22)))"
      ]
     },
     "metadata": {},
     "output_type": "display_data"
    },
    {
     "name": "stdout",
     "output_type": "stream",
     "text": [
      "n_{1} = - \\frac{Rb \\left(\\left(\\frac{1}{R_{42}} + \\frac{1}{R_{41}}\\right) \\left(\\frac{1}{C_{21} + C_{22}} + \\frac{1}{C_{3}}\\right) + \\frac{1}{R_{1} \\left(C_{21} + C_{22}\\right)}\\right)}{Ra_{2}} + \\frac{\\left(\\frac{1}{C_{21} + C_{22}} + \\frac{1}{C_{3}}\\right) \\left(1 + \\frac{Rb}{Ra_{2}} + \\frac{Rb}{Ra_{1}}\\right)}{R_{42}}\n"
     ]
    },
    {
     "data": {
      "text/latex": [
       "$\\displaystyle \\text{True}$"
      ],
      "text/plain": [
       "True"
      ]
     },
     "metadata": {},
     "output_type": "display_data"
    }
   ],
   "source": [
    "n1 = num_ideal.coeffs()[1].simplify()\n",
    "display(sp.Eq(sp.symbols('n_1'), n1))\n",
    "\n",
    "n1_paper = (Ga1/Gb + Ga2/Gb + 1)*G42*(1/(C21 + C22) + 1/C3) - (Ga2/Gb)*( G1/(C21 + C22) + (G41 + G42)*(1/(C21 + C22) + 1/C3) )\n",
    "print(sp.latex(sp.Eq(sp.symbols('n_1'), n1_paper)))\n",
    "display(sp.Eq(n1_paper.simplify(), n1.simplify()).simplify())"
   ]
  },
  {
   "cell_type": "code",
   "execution_count": 85,
   "metadata": {},
   "outputs": [
    {
     "data": {
      "text/latex": [
       "$\\displaystyle n_{0} = \\frac{R_{41} Ra_{1} Ra_{2} + R_{41} Ra_{2} Rb - R_{42} Ra_{1} Rb}{C_{3} R_{1} R_{41} R_{42} Ra_{1} Ra_{2} \\left(C_{21} + C_{22}\\right)}$"
      ],
      "text/plain": [
       "Eq(n_0, (R41*Ra1*Ra2 + R41*Ra2*Rb - R42*Ra1*Rb)/(C3*R1*R41*R42*Ra1*Ra2*(C21 + C22)))"
      ]
     },
     "metadata": {},
     "output_type": "display_data"
    },
    {
     "name": "stdout",
     "output_type": "stream",
     "text": [
      "n_{0} = \\frac{\\left(R_{41} + R_{42}\\right) \\left(- \\frac{Rb}{Ra_{2}} + \\frac{1 + \\frac{Rb}{Ra_{2}} + \\frac{Rb}{Ra_{1}}}{R_{42} \\cdot \\left(\\frac{1}{R_{42}} + \\frac{1}{R_{41}}\\right)}\\right)}{C_{3} R_{1} R_{41} R_{42} \\left(C_{21} + C_{22}\\right)}\n"
     ]
    },
    {
     "data": {
      "text/latex": [
       "$\\displaystyle \\text{True}$"
      ],
      "text/plain": [
       "True"
      ]
     },
     "metadata": {},
     "output_type": "display_data"
    }
   ],
   "source": [
    "n0 = num_ideal.coeffs()[2].simplify()\n",
    "display(sp.Eq(sp.symbols('n_0'), n0))\n",
    "\n",
    "n0_paper = w02*((G42/(G41 + G42))*(Ga1/Gb + Ga2/Gb + 1) - Ga2/Gb )\n",
    "print(sp.latex(sp.Eq(sp.symbols('n_0'), n0_paper)))\n",
    "display(sp.Eq(n0_paper.simplify(), n0.simplify()).simplify())"
   ]
  },
  {
   "cell_type": "markdown",
   "metadata": {},
   "source": [
    "# Parámetros del circuito"
   ]
  },
  {
   "cell_type": "code",
   "execution_count": 86,
   "metadata": {},
   "outputs": [],
   "source": [
    "k, K, n, m, Q0, G, C = sp.symbols('k K n m Q_0 G C', real=True, positive=True)\n",
    "# n2_lim, Q, wz_sym, w0_sym = sp.symbols('n_2^\\\\infty Q \\\\omega_z \\\\omega_0', real=True, positive=True)\n",
    "# K = (1/(2*Q0**2))*(1 - Q0/Q) + 1\n",
    "# k = (n2_lim*(wz_sym/w0_sym)**2)/(1 - Q0/Q)\n",
    "# n = k*(1 - Q0/(K*Q))\n",
    "# m = k*((K-1)/K)*(1 + (2*Q0**2)*(w0_sym/wz_sym)**2)\n",
    "Ga1_eq = (1-k)*(K-1)*Gb\n",
    "Ga2_eq = k*(K-1)*Gb\n",
    "G41_eq = (1-n)*G\n",
    "G42_eq = n*G\n",
    "C3_eq = C\n",
    "G1_eq = 4*G*Q0**2\n",
    "C22_eq = m*C\n",
    "C21_eq = (1-m)*C\n",
    "subs_dict = {C3: C3_eq, G1: G1_eq, C22: C22_eq, C21: C21_eq, Ga1: Ga1_eq, Ga2: Ga2_eq, G41: G41_eq, G42: G42_eq}"
   ]
  },
  {
   "cell_type": "markdown",
   "metadata": {},
   "source": [
    "# Sensibilidad del polo $\\omega_0$"
   ]
  },
  {
   "cell_type": "code",
   "execution_count": 89,
   "metadata": {},
   "outputs": [
    {
     "name": "stdout",
     "output_type": "stream",
     "text": [
      "\\omega_{{0}} = \\frac{\\sqrt{R_{41} + R_{42}}}{\\sqrt{C_{3}} \\sqrt{R_{1}} \\sqrt{R_{41}} \\sqrt{R_{42}} \\sqrt{C_{21} + C_{22}}}\n"
     ]
    },
    {
     "data": {
      "text/latex": [
       "$\\displaystyle S_{R_{41}}^{\\omega_0} = \\frac{n}{2} - \\frac{1}{2}$"
      ],
      "text/plain": [
       "Eq(S_{R_{41}}^{\\omega_0}, n/2 - 1/2)"
      ]
     },
     "metadata": {},
     "output_type": "display_data"
    },
    {
     "data": {
      "text/latex": [
       "$\\displaystyle S_{C_{22}}^{\\omega_0} = - \\frac{m}{2}$"
      ],
      "text/plain": [
       "Eq(S_{C_{22}}^{\\omega_0}, -m/2)"
      ]
     },
     "metadata": {},
     "output_type": "display_data"
    },
    {
     "data": {
      "text/latex": [
       "$\\displaystyle S_{C_{21}}^{\\omega_0} = \\frac{m}{2} - \\frac{1}{2}$"
      ],
      "text/plain": [
       "Eq(S_{C_{21}}^{\\omega_0}, m/2 - 1/2)"
      ]
     },
     "metadata": {},
     "output_type": "display_data"
    },
    {
     "data": {
      "text/latex": [
       "$\\displaystyle S_{R_{42}}^{\\omega_0} = - \\frac{n}{2}$"
      ],
      "text/plain": [
       "Eq(S_{R_{42}}^{\\omega_0}, -n/2)"
      ]
     },
     "metadata": {},
     "output_type": "display_data"
    },
    {
     "data": {
      "text/latex": [
       "$\\displaystyle S_{C_{3}}^{\\omega_0} = - \\frac{1}{2}$"
      ],
      "text/plain": [
       "Eq(S_{C_{3}}^{\\omega_0}, -1/2)"
      ]
     },
     "metadata": {},
     "output_type": "display_data"
    },
    {
     "data": {
      "text/latex": [
       "$\\displaystyle S_{R_{1}}^{\\omega_0} = - \\frac{1}{2}$"
      ],
      "text/plain": [
       "Eq(S_{R_{1}}^{\\omega_0}, -1/2)"
      ]
     },
     "metadata": {},
     "output_type": "display_data"
    }
   ],
   "source": [
    "from design_utils import S, SensTable\n",
    "\n",
    "w0 = sp.sqrt(w02)\n",
    "print(sp.latex(sp.Eq(sp.symbols('\\\\omega_{{0}}'), w0.simplify())))\n",
    "w0_table, w0_labels = SensTable(w0, name='\\\\omega_0', latex=False, subs_dict=subs_dict)"
   ]
  },
  {
   "cell_type": "markdown",
   "metadata": {},
   "source": [
    "# Sensibilidad del factor de calidad del polo $Q$"
   ]
  },
  {
   "cell_type": "code",
   "execution_count": 91,
   "metadata": {},
   "outputs": [
    {
     "data": {
      "text/latex": [
       "$\\displaystyle \\frac{\\sqrt{C_{3}} \\sqrt{R_{1}} \\sqrt{R_{41}} \\sqrt{R_{42}} Ra_{1} Ra_{2} \\sqrt{C_{21} + C_{22}} \\sqrt{R_{41} + R_{42}}}{- C_{3} R_{41} R_{42} Rb \\left(Ra_{1} + Ra_{2}\\right) + R_{1} Ra_{1} Ra_{2} \\left(R_{41} + R_{42}\\right) \\left(C_{21} + C_{22} + C_{3}\\right)}$"
      ],
      "text/plain": [
       "sqrt(C3)*sqrt(R1)*sqrt(R41)*sqrt(R42)*Ra1*Ra2*sqrt(C21 + C22)*sqrt(R41 + R42)/(-C3*R41*R42*Rb*(Ra1 + Ra2) + R1*Ra1*Ra2*(R41 + R42)*(C21 + C22 + C3))"
      ]
     },
     "metadata": {},
     "output_type": "display_data"
    },
    {
     "data": {
      "text/latex": [
       "$\\displaystyle Q = \\frac{\\sqrt{C_{3}} \\sqrt{R_{1}} \\sqrt{R_{41}} \\sqrt{R_{42}} Ra_{1} Ra_{2} \\sqrt{C_{21} + C_{22}} \\sqrt{R_{41} + R_{42}}}{- C_{3} R_{41} R_{42} Rb \\left(Ra_{1} + Ra_{2}\\right) + R_{1} Ra_{1} Ra_{2} \\left(R_{41} + R_{42}\\right) \\left(C_{21} + C_{22} + C_{3}\\right)}$"
      ],
      "text/plain": [
       "Eq(Q, sqrt(C3)*sqrt(R1)*sqrt(R41)*sqrt(R42)*Ra1*Ra2*sqrt(C21 + C22)*sqrt(R41 + R42)/(-C3*R41*R42*Rb*(Ra1 + Ra2) + R1*Ra1*Ra2*(R41 + R42)*(C21 + C22 + C3)))"
      ]
     },
     "metadata": {},
     "output_type": "display_data"
    },
    {
     "data": {
      "text/latex": [
       "$\\displaystyle S_{R_{41}}^{Q} = \\frac{- 2 Q_{0}^{2} \\left(K - 1\\right) + n \\left(2 Q_{0}^{2} \\left(K - 1\\right) - 1\\right) + 2 n - 1}{2 \\cdot \\left(2 Q_{0}^{2} \\left(K - 1\\right) - 1\\right)}$"
      ],
      "text/plain": [
       "Eq(S_{R_{41}}^{Q}, (-2*Q_0**2*(K - 1) + n*(2*Q_0**2*(K - 1) - 1) + 2*n - 1)/(2*(2*Q_0**2*(K - 1) - 1)))"
      ]
     },
     "metadata": {},
     "output_type": "display_data"
    },
    {
     "data": {
      "text/latex": [
       "$\\displaystyle S_{C_{22}}^{Q} = \\frac{Q_{0}^{2} m \\left(K - 1\\right)}{2 Q_{0}^{2} \\left(K - 1\\right) - 1}$"
      ],
      "text/plain": [
       "Eq(S_{C_{22}}^{Q}, Q_0**2*m*(K - 1)/(2*Q_0**2*(K - 1) - 1))"
      ]
     },
     "metadata": {},
     "output_type": "display_data"
    },
    {
     "data": {
      "text/latex": [
       "$\\displaystyle S_{Ra_{2}}^{Q} = \\frac{2 Q_{0}^{2} k \\left(K - 1\\right)}{2 Q_{0}^{2} \\left(K - 1\\right) - 1}$"
      ],
      "text/plain": [
       "Eq(S_{Ra_{2}}^{Q}, 2*Q_0**2*k*(K - 1)/(2*Q_0**2*(K - 1) - 1))"
      ]
     },
     "metadata": {},
     "output_type": "display_data"
    },
    {
     "data": {
      "text/latex": [
       "$\\displaystyle S_{Rb}^{Q} = \\frac{Q_{0}^{2} \\cdot \\left(2 - 2 K\\right)}{2 Q_{0}^{2} \\left(K - 1\\right) - 1}$"
      ],
      "text/plain": [
       "Eq(S_{Rb}^{Q}, Q_0**2*(2 - 2*K)/(2*Q_0**2*(K - 1) - 1))"
      ]
     },
     "metadata": {},
     "output_type": "display_data"
    },
    {
     "data": {
      "text/latex": [
       "$\\displaystyle S_{R_{42}}^{Q} = \\frac{n \\left(- 2 K Q_{0}^{2} + 2 Q_{0}^{2} - 1\\right)}{2 \\cdot \\left(2 K Q_{0}^{2} - 2 Q_{0}^{2} - 1\\right)}$"
      ],
      "text/plain": [
       "Eq(S_{R_{42}}^{Q}, n*(-2*K*Q_0**2 + 2*Q_0**2 - 1)/(2*(2*K*Q_0**2 - 2*Q_0**2 - 1)))"
      ]
     },
     "metadata": {},
     "output_type": "display_data"
    },
    {
     "data": {
      "text/latex": [
       "$\\displaystyle S_{C_{21}}^{Q} = - \\frac{Q_{0}^{2} \\left(K - 1\\right) \\left(m - 1\\right)}{2 Q_{0}^{2} \\left(K - 1\\right) - 1}$"
      ],
      "text/plain": [
       "Eq(S_{C_{21}}^{Q}, -Q_0**2*(K - 1)*(m - 1)/(2*Q_0**2*(K - 1) - 1))"
      ]
     },
     "metadata": {},
     "output_type": "display_data"
    },
    {
     "data": {
      "text/latex": [
       "$\\displaystyle S_{Ra_{1}}^{Q} = \\frac{2 Q_{0}^{2} \\left(K - 1\\right) \\left(k - 1\\right)}{- 2 Q_{0}^{2} \\left(K - 1\\right) + 1}$"
      ],
      "text/plain": [
       "Eq(S_{Ra_{1}}^{Q}, 2*Q_0**2*(K - 1)*(k - 1)/(-2*Q_0**2*(K - 1) + 1))"
      ]
     },
     "metadata": {},
     "output_type": "display_data"
    },
    {
     "data": {
      "text/latex": [
       "$\\displaystyle S_{C_{3}}^{Q} = \\frac{Q_{0}^{2} \\cdot \\left(1 - K\\right)}{2 Q_{0}^{2} \\left(K - 1\\right) - 1}$"
      ],
      "text/plain": [
       "Eq(S_{C_{3}}^{Q}, Q_0**2*(1 - K)/(2*Q_0**2*(K - 1) - 1))"
      ]
     },
     "metadata": {},
     "output_type": "display_data"
    },
    {
     "data": {
      "text/latex": [
       "$\\displaystyle S_{R_{1}}^{Q} = \\frac{2 Q_{0}^{2} \\left(K - 1\\right) + 1}{2 \\cdot \\left(2 Q_{0}^{2} \\left(K - 1\\right) - 1\\right)}$"
      ],
      "text/plain": [
       "Eq(S_{R_{1}}^{Q}, (2*Q_0**2*(K - 1) + 1)/(2*(2*Q_0**2*(K - 1) - 1)))"
      ]
     },
     "metadata": {},
     "output_type": "display_data"
    }
   ],
   "source": [
    "Q = w0 / w0_Q_paper\n",
    "display(Q.simplify())\n",
    "display(sp.Eq(sp.symbols('Q'), Q.simplify()))\n",
    "\n",
    "Q_table, Q_labels = SensTable(Q, name='Q', subs_dict=subs_dict, latex=False)"
   ]
  },
  {
   "cell_type": "code",
   "execution_count": 94,
   "metadata": {},
   "outputs": [
    {
     "data": {
      "text/latex": [
       "$\\displaystyle \\omega_{z} = \\frac{\\sqrt{\\frac{R_{41} Ra_{1} Ra_{2} + R_{41} Ra_{2} Rb - R_{42} Ra_{1} Rb}{- C_{21} Ra_{1} Rb + C_{22} Ra_{1} Ra_{2} + C_{22} Ra_{2} Rb}}}{\\sqrt{C_{3}} \\sqrt{R_{1}} \\sqrt{R_{41}} \\sqrt{R_{42}}}$"
      ],
      "text/plain": [
       "Eq(\\omega_z, sqrt((R41*Ra1*Ra2 + R41*Ra2*Rb - R42*Ra1*Rb)/(-C21*Ra1*Rb + C22*Ra1*Ra2 + C22*Ra2*Rb))/(sqrt(C3)*sqrt(R1)*sqrt(R41)*sqrt(R42)))"
      ]
     },
     "metadata": {},
     "output_type": "display_data"
    },
    {
     "name": "stdout",
     "output_type": "stream",
     "text": [
      "\\omega_{z} = \\frac{\\sqrt{\\frac{R_{41} Ra_{1} Ra_{2} + R_{41} Ra_{2} Rb - R_{42} Ra_{1} Rb}{- C_{21} Ra_{1} Rb + C_{22} Ra_{1} Ra_{2} + C_{22} Ra_{2} Rb}}}{\\sqrt{C_{3}} \\sqrt{R_{1}} \\sqrt{R_{41}} \\sqrt{R_{42}}}\n"
     ]
    },
    {
     "data": {
      "text/latex": [
       "$\\displaystyle \\omega_{z} = \\frac{\\sqrt{\\frac{R_{41} Ra_{1} Ra_{2} + R_{41} Ra_{2} Rb - R_{42} Ra_{1} Rb}{- C_{21} Ra_{1} Rb + C_{22} Ra_{1} Ra_{2} + C_{22} Ra_{2} Rb}}}{\\sqrt{C_{3}} \\sqrt{R_{1}} \\sqrt{R_{41}} \\sqrt{R_{42}}}$"
      ],
      "text/plain": [
       "Eq(\\omega_z, sqrt((R41*Ra1*Ra2 + R41*Ra2*Rb - R42*Ra1*Rb)/(-C21*Ra1*Rb + C22*Ra1*Ra2 + C22*Ra2*Rb))/(sqrt(C3)*sqrt(R1)*sqrt(R41)*sqrt(R42)))"
      ]
     },
     "metadata": {},
     "output_type": "display_data"
    },
    {
     "data": {
      "text/latex": [
       "$\\displaystyle S_{R_{41}}^{\\omega_z} = \\frac{R_{42} Ra_{1} Rb}{2 \\left(R_{41} Ra_{1} Ra_{2} + R_{41} Ra_{2} Rb - R_{42} Ra_{1} Rb\\right)}$"
      ],
      "text/plain": [
       "Eq(S_{R_{41}}^{\\omega_z}, R42*Ra1*Rb/(2*(R41*Ra1*Ra2 + R41*Ra2*Rb - R42*Ra1*Rb)))"
      ]
     },
     "metadata": {},
     "output_type": "display_data"
    },
    {
     "data": {
      "text/latex": [
       "$\\displaystyle S_{C_{22}}^{\\omega_z} = \\frac{C_{22} Ra_{2} \\left(Ra_{1} + Rb\\right)}{2 \\left(C_{21} Ra_{1} Rb - C_{22} Ra_{1} Ra_{2} - C_{22} Ra_{2} Rb\\right)}$"
      ],
      "text/plain": [
       "Eq(S_{C_{22}}^{\\omega_z}, C22*Ra2*(Ra1 + Rb)/(2*(C21*Ra1*Rb - C22*Ra1*Ra2 - C22*Ra2*Rb)))"
      ]
     },
     "metadata": {},
     "output_type": "display_data"
    },
    {
     "data": {
      "text/latex": [
       "$\\displaystyle S_{Ra_{2}}^{\\omega_z} = - \\frac{Ra_{2} \\left(Ra_{1} + Rb\\right) \\left(C_{22} \\left(R_{41} Ra_{1} Ra_{2} + R_{41} Ra_{2} Rb - R_{42} Ra_{1} Rb\\right) - R_{41} \\left(- C_{21} Ra_{1} Rb + C_{22} Ra_{1} Ra_{2} + C_{22} Ra_{2} Rb\\right)\\right)}{2 \\left(- C_{21} Ra_{1} Rb + C_{22} Ra_{1} Ra_{2} + C_{22} Ra_{2} Rb\\right) \\left(R_{41} Ra_{1} Ra_{2} + R_{41} Ra_{2} Rb - R_{42} Ra_{1} Rb\\right)}$"
      ],
      "text/plain": [
       "Eq(S_{Ra_{2}}^{\\omega_z}, -Ra2*(Ra1 + Rb)*(C22*(R41*Ra1*Ra2 + R41*Ra2*Rb - R42*Ra1*Rb) - R41*(-C21*Ra1*Rb + C22*Ra1*Ra2 + C22*Ra2*Rb))/(2*(-C21*Ra1*Rb + C22*Ra1*Ra2 + C22*Ra2*Rb)*(R41*Ra1*Ra2 + R41*Ra2*Rb - R42*Ra1*Rb)))"
      ]
     },
     "metadata": {},
     "output_type": "display_data"
    },
    {
     "data": {
      "text/latex": [
       "$\\displaystyle S_{Rb}^{\\omega_z} = \\frac{Rb \\left(\\left(C_{21} Ra_{1} - C_{22} Ra_{2}\\right) \\left(R_{41} Ra_{1} Ra_{2} + R_{41} Ra_{2} Rb - R_{42} Ra_{1} Rb\\right) + \\left(R_{41} Ra_{2} - R_{42} Ra_{1}\\right) \\left(- C_{21} Ra_{1} Rb + C_{22} Ra_{1} Ra_{2} + C_{22} Ra_{2} Rb\\right)\\right)}{2 \\left(- C_{21} Ra_{1} Rb + C_{22} Ra_{1} Ra_{2} + C_{22} Ra_{2} Rb\\right) \\left(R_{41} Ra_{1} Ra_{2} + R_{41} Ra_{2} Rb - R_{42} Ra_{1} Rb\\right)}$"
      ],
      "text/plain": [
       "Eq(S_{Rb}^{\\omega_z}, Rb*((C21*Ra1 - C22*Ra2)*(R41*Ra1*Ra2 + R41*Ra2*Rb - R42*Ra1*Rb) + (R41*Ra2 - R42*Ra1)*(-C21*Ra1*Rb + C22*Ra1*Ra2 + C22*Ra2*Rb))/(2*(-C21*Ra1*Rb + C22*Ra1*Ra2 + C22*Ra2*Rb)*(R41*Ra1*Ra2 + R41*Ra2*Rb - R42*Ra1*Rb)))"
      ]
     },
     "metadata": {},
     "output_type": "display_data"
    },
    {
     "data": {
      "text/latex": [
       "$\\displaystyle S_{R_{42}}^{\\omega_z} = \\frac{R_{41} Ra_{2} \\left(- Ra_{1} - Rb\\right)}{2 \\left(R_{41} Ra_{1} Ra_{2} + R_{41} Ra_{2} Rb - R_{42} Ra_{1} Rb\\right)}$"
      ],
      "text/plain": [
       "Eq(S_{R_{42}}^{\\omega_z}, R41*Ra2*(-Ra1 - Rb)/(2*(R41*Ra1*Ra2 + R41*Ra2*Rb - R42*Ra1*Rb)))"
      ]
     },
     "metadata": {},
     "output_type": "display_data"
    },
    {
     "data": {
      "text/latex": [
       "$\\displaystyle S_{C_{21}}^{\\omega_z} = \\frac{C_{21} Ra_{1} Rb}{2 \\left(- C_{21} Ra_{1} Rb + C_{22} Ra_{1} Ra_{2} + C_{22} Ra_{2} Rb\\right)}$"
      ],
      "text/plain": [
       "Eq(S_{C_{21}}^{\\omega_z}, C21*Ra1*Rb/(2*(-C21*Ra1*Rb + C22*Ra1*Ra2 + C22*Ra2*Rb)))"
      ]
     },
     "metadata": {},
     "output_type": "display_data"
    },
    {
     "data": {
      "text/latex": [
       "$\\displaystyle S_{Ra_{1}}^{\\omega_z} = \\frac{Ra_{1} \\left(\\left(C_{21} Rb - C_{22} Ra_{2}\\right) \\left(R_{41} Ra_{1} Ra_{2} + R_{41} Ra_{2} Rb - R_{42} Ra_{1} Rb\\right) + \\left(R_{41} Ra_{2} - R_{42} Rb\\right) \\left(- C_{21} Ra_{1} Rb + C_{22} Ra_{1} Ra_{2} + C_{22} Ra_{2} Rb\\right)\\right)}{2 \\left(- C_{21} Ra_{1} Rb + C_{22} Ra_{1} Ra_{2} + C_{22} Ra_{2} Rb\\right) \\left(R_{41} Ra_{1} Ra_{2} + R_{41} Ra_{2} Rb - R_{42} Ra_{1} Rb\\right)}$"
      ],
      "text/plain": [
       "Eq(S_{Ra_{1}}^{\\omega_z}, Ra1*((C21*Rb - C22*Ra2)*(R41*Ra1*Ra2 + R41*Ra2*Rb - R42*Ra1*Rb) + (R41*Ra2 - R42*Rb)*(-C21*Ra1*Rb + C22*Ra1*Ra2 + C22*Ra2*Rb))/(2*(-C21*Ra1*Rb + C22*Ra1*Ra2 + C22*Ra2*Rb)*(R41*Ra1*Ra2 + R41*Ra2*Rb - R42*Ra1*Rb)))"
      ]
     },
     "metadata": {},
     "output_type": "display_data"
    },
    {
     "data": {
      "text/latex": [
       "$\\displaystyle S_{C_{3}}^{\\omega_z} = - \\frac{1}{2}$"
      ],
      "text/plain": [
       "Eq(S_{C_{3}}^{\\omega_z}, -1/2)"
      ]
     },
     "metadata": {},
     "output_type": "display_data"
    },
    {
     "data": {
      "text/latex": [
       "$\\displaystyle S_{R_{1}}^{\\omega_z} = - \\frac{1}{2}$"
      ],
      "text/plain": [
       "Eq(S_{R_{1}}^{\\omega_z}, -1/2)"
      ]
     },
     "metadata": {},
     "output_type": "display_data"
    }
   ],
   "source": [
    "wz2 = n0.simplify() / n2.simplify()\n",
    "wz2 = wz2.simplify()\n",
    "wz = sp.sqrt(wz2).simplify()\n",
    "display(sp.Eq(sp.Symbol(\"\\\\omega_z\"), wz))\n",
    "print(sp.latex(sp.Eq(sp.Symbol(\"\\\\omega_z\"), wz)))\n",
    "display(sp.Eq(sp.Symbol(\"\\\\omega_z\"), wz.simplify()))\n",
    "\n",
    "wz_table, wz_labels = SensTable(wz, name='\\\\omega_z', latex=False)"
   ]
  },
  {
   "cell_type": "code",
   "execution_count": 95,
   "metadata": {},
   "outputs": [
    {
     "name": "stdout",
     "output_type": "stream",
     "text": [
      "w0_table = [n/2 - 1/2, -m/2, m/2 - 1/2, -n/2, -1/2, -1/2]\n",
      "Q_table = [(-2*Q_0**2*(K - 1) + n*(2*Q_0**2*(K - 1) - 1) + 2*n - 1)/(2*(2*Q_0**2*(K - 1) - 1)), Q_0**2*m*(K - 1)/(2*Q_0**2*(K - 1) - 1), 2*Q_0**2*k*(K - 1)/(2*Q_0**2*(K - 1) - 1), Q_0**2*(2 - 2*K)/(2*Q_0**2*(K - 1) - 1), n*(-2*K*Q_0**2 + 2*Q_0**2 - 1)/(2*(2*K*Q_0**2 - 2*Q_0**2 - 1)), -Q_0**2*(K - 1)*(m - 1)/(2*Q_0**2*(K - 1) - 1), 2*Q_0**2*(K - 1)*(k - 1)/(-2*Q_0**2*(K - 1) + 1), Q_0**2*(1 - K)/(2*Q_0**2*(K - 1) - 1), (2*Q_0**2*(K - 1) + 1)/(2*(2*Q_0**2*(K - 1) - 1))]\n",
      "wz_table = [R42*Ra1*Rb/(2*(R41*Ra1*Ra2 + R41*Ra2*Rb - R42*Ra1*Rb)), C22*Ra2*(Ra1 + Rb)/(2*(C21*Ra1*Rb - C22*Ra1*Ra2 - C22*Ra2*Rb)), -Ra2*(Ra1 + Rb)*(C22*(R41*Ra1*Ra2 + R41*Ra2*Rb - R42*Ra1*Rb) - R41*(-C21*Ra1*Rb + C22*Ra1*Ra2 + C22*Ra2*Rb))/(2*(-C21*Ra1*Rb + C22*Ra1*Ra2 + C22*Ra2*Rb)*(R41*Ra1*Ra2 + R41*Ra2*Rb - R42*Ra1*Rb)), Rb*((C21*Ra1 - C22*Ra2)*(R41*Ra1*Ra2 + R41*Ra2*Rb - R42*Ra1*Rb) + (R41*Ra2 - R42*Ra1)*(-C21*Ra1*Rb + C22*Ra1*Ra2 + C22*Ra2*Rb))/(2*(-C21*Ra1*Rb + C22*Ra1*Ra2 + C22*Ra2*Rb)*(R41*Ra1*Ra2 + R41*Ra2*Rb - R42*Ra1*Rb)), R41*Ra2*(-Ra1 - Rb)/(2*(R41*Ra1*Ra2 + R41*Ra2*Rb - R42*Ra1*Rb)), C21*Ra1*Rb/(2*(-C21*Ra1*Rb + C22*Ra1*Ra2 + C22*Ra2*Rb)), Ra1*((C21*Rb - C22*Ra2)*(R41*Ra1*Ra2 + R41*Ra2*Rb - R42*Ra1*Rb) + (R41*Ra2 - R42*Rb)*(-C21*Ra1*Rb + C22*Ra1*Ra2 + C22*Ra2*Rb))/(2*(-C21*Ra1*Rb + C22*Ra1*Ra2 + C22*Ra2*Rb)*(R41*Ra1*Ra2 + R41*Ra2*Rb - R42*Ra1*Rb)), -1/2, -1/2]\n"
     ]
    }
   ],
   "source": [
    "print(\"w0_table =\", w0_table)\n",
    "print(\"Q_table =\", Q_table)\n",
    "print(\"wz_table =\", wz_table)"
   ]
  },
  {
   "cell_type": "code",
   "execution_count": 96,
   "metadata": {},
   "outputs": [
    {
     "name": "stdout",
     "output_type": "stream",
     "text": [
      "w0_labels = ['R_{41}', 'C_{22}', 'C_{21}', 'R_{42}', 'C_{3}', 'R_{1}']\n",
      "Q_labels = ['R_{41}', 'C_{22}', 'Ra_{2}', 'Rb', 'R_{42}', 'C_{21}', 'Ra_{1}', 'C_{3}', 'R_{1}']\n",
      "wz_labels = ['R_{41}', 'C_{22}', 'Ra_{2}', 'Rb', 'R_{42}', 'C_{21}', 'Ra_{1}', 'C_{3}', 'R_{1}']\n"
     ]
    }
   ],
   "source": [
    "print(\"w0_labels =\", w0_labels)\n",
    "print(\"Q_labels =\", Q_labels)\n",
    "print(\"wz_labels =\", wz_labels)"
   ]
  }
 ],
 "metadata": {
  "kernelspec": {
   "display_name": "Python 3",
   "language": "python",
   "name": "python3"
  },
  "language_info": {
   "codemirror_mode": {
    "name": "ipython",
    "version": 3
   },
   "file_extension": ".py",
   "mimetype": "text/x-python",
   "name": "python",
   "nbconvert_exporter": "python",
   "pygments_lexer": "ipython3",
   "version": "3.10.0"
  }
 },
 "nbformat": 4,
 "nbformat_minor": 2
}
